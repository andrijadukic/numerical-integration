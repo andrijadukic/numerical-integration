{
 "cells": [
  {
   "cell_type": "code",
   "execution_count": 1,
   "metadata": {},
   "outputs": [],
   "source": [
    "import numpy as np\n",
    "import matplotlib.pyplot as plt"
   ]
  },
  {
   "cell_type": "code",
   "execution_count": 4,
   "metadata": {},
   "outputs": [],
   "source": [
    "def plot_state_variables(filename, title):\n",
    "    data = np.loadtxt(\"data/\" + filename + \".txt\", delimiter=\";\")\n",
    "    t = data[:, 0]\n",
    "    x = data[:, 1:]\n",
    "    \n",
    "    fig = plt.figure()\n",
    "    ax = fig.add_subplot(111)\n",
    "    \n",
    "    ax.set_title(title)\n",
    "    ax.set_xlabel(\"time\")\n",
    "    ax.set_ylabel(\"value\")\n",
    "    \n",
    "    for i, xi in enumerate(x.T):\n",
    "        ax.plot(t, xi, label=\"x\" + str(i + 1))\n",
    "        \n",
    "    ax.legend(loc=\"best\")\n",
    "    \n",
    "    fig.savefig(\"data/\" + filename + \".svg\")\n",
    "    plt.close(fig)"
   ]
  },
  {
   "cell_type": "code",
   "execution_count": 5,
   "metadata": {},
   "outputs": [],
   "source": [
    "tasks = [\"zad1\", \"zad2\", \"zad3\", \"zad4\"]\n",
    "integrators = [\"Euler method\", \"Backward euler method\", \"Runge-Kutta\", \"Trapezoidal\", \"PECE\", \"PE(CE)^2\"]\n",
    "\n",
    "for task in tasks:\n",
    "    for integrator in integrators:\n",
    "        plot_state_variables(integrator.replace(\" \", \"_\") + \"_\" + task, integrator + \"-\" + task)"
   ]
  },
  {
   "cell_type": "code",
   "execution_count": null,
   "metadata": {},
   "outputs": [],
   "source": []
  }
 ],
 "metadata": {
  "kernelspec": {
   "display_name": "Python 3",
   "language": "python",
   "name": "python3"
  },
  "language_info": {
   "codemirror_mode": {
    "name": "ipython",
    "version": 3
   },
   "file_extension": ".py",
   "mimetype": "text/x-python",
   "name": "python",
   "nbconvert_exporter": "python",
   "pygments_lexer": "ipython3",
   "version": "3.8.2"
  }
 },
 "nbformat": 4,
 "nbformat_minor": 4
}
